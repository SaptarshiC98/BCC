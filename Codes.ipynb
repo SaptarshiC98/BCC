{
 "cells": [
  {
   "cell_type": "markdown",
   "metadata": {},
   "source": [
    "# An Example Run on the Libras Dataset"
   ]
  },
  {
   "cell_type": "markdown",
   "metadata": {},
   "source": [
    "Load the libraries"
   ]
  },
  {
   "cell_type": "code",
   "execution_count": 2,
   "metadata": {},
   "outputs": [],
   "source": [
    "# Libraries\n",
    "library(FastKNN)\n",
    "library(dynamicTreeCut)\n",
    "library(sparcl)\n",
    "library(igraph)"
   ]
  },
  {
   "cell_type": "markdown",
   "metadata": {},
   "source": [
    "Run the code"
   ]
  },
  {
   "cell_type": "code",
   "execution_count": 3,
   "metadata": {},
   "outputs": [],
   "source": [
    "#Code \n",
    "BFfzero=function (f, a, b, num = 10, eps = 1e-05) \n",
    "{\n",
    "  h = abs(b - a)/num\n",
    "  i = 0\n",
    "  j = 0\n",
    "  a1 = b1 = 0\n",
    "  while (i <= num) {\n",
    "    a1 = a + i * h\n",
    "    b1 = a1 + h\n",
    "    if (f(a1) == 0) {\n",
    "      return(a1)\n",
    "      #print(f(a1))\n",
    "    }\n",
    "    else if (f(b1) == 0) {\n",
    "      return(b1)\n",
    "      #print(f(b1))\n",
    "    }\n",
    "    else if (f(a1) * f(b1) < 0) {\n",
    "      repeat {\n",
    "        if (abs(b1 - a1) < eps) \n",
    "          break\n",
    "        x <- (a1 + b1)/2\n",
    "        if (f(a1) * f(x) < 0) \n",
    "          b1 <- x\n",
    "        else a1 <- x\n",
    "      }\n",
    "      #print(j + 1)\n",
    "      j = j + 1\n",
    "      return((a1 + b1)/2)\n",
    "      #print(f((a1 + b1)/2))\n",
    "    }\n",
    "    i = i + 1\n",
    "  }\n",
    "  if (j == 0) \n",
    "    print(\"finding root is fail\")\n",
    "  else print(\"finding root is successful\")\n",
    "}\n",
    "S=function(x,y){\n",
    "  if(x>y){\n",
    "    return(x-y)\n",
    "  }else{return(0)}\n",
    "}\n",
    "diff_sq_calc=function(x,W){\n",
    "  n=length(x)\n",
    "  s=0\n",
    "  for( i in 1:n){\n",
    "    for( j in 1:n){\n",
    "      s=s+W[i,j]*(x[i]-x[j])^2\n",
    "    }\n",
    "  }\n",
    "  return(s)\n",
    "}\n",
    "d_w=function(x,y,w){\n",
    "  return(sum(w*(x-y)^2))\n",
    "}\n",
    "solve_alpha=function(A,lambda){\n",
    "  f=function(alpha){\n",
    "    s=0\n",
    "    p=length(A)\n",
    "    for(i in 1:p){\n",
    "      s=s+S(alpha/A[i],lambda)\n",
    "    }\n",
    "    return(s/2-1)\n",
    "  }\n",
    "  a=BFfzero(f,0.01,1000)\n",
    "  return(a)\n",
    "}\n",
    "bcc=function(X,M,beta=2,lambda,gamma=1000,k=5,tmax=30){\n",
    "  n=dim(X)[1]\n",
    "  p=dim(X)[2]\n",
    "  #w=rep(1/p,p)\n",
    "  w=runif(p)\n",
    "  w=w/sum(w)\n",
    "  A=numeric(p)\n",
    "  B=numeric(p)\n",
    "  C=numeric(p)\n",
    "  for(t in 1:tmax){\n",
    "    D=matrix(0,n,n)\n",
    "    for(i in 1:n){\n",
    "      for(j in 1:n){\n",
    "        D[i,j]=d_w(X[i,],X[j,],w^2+lambda*w)\n",
    "      }\n",
    "    }\n",
    "    nn = matrix(0,n,k) # n x k\n",
    "    for (i in 1:n)\n",
    "      nn[i,] = k.nearest.neighbors(i, D, k )\n",
    "    W=matrix(0,n,n)\n",
    "    for(i in 1:n){\n",
    "      for(j in nn[i,]){\n",
    "        W[i,j]=exp(-0.5*D[i,j]/p)\n",
    "      }\n",
    "    }\n",
    "    for(i in 1:n){\n",
    "      \n",
    "      \n",
    "      for(l in 1:p){\n",
    "        if(w[l]>0){\n",
    "          dividor=(sum(W[i,nn[i,]])+sum(W[nn[i,],i]))*gamma+w[l]^beta+lambda*abs(w[l])\n",
    "          M[i,l]=(gamma*(sum(W[i,nn[i,]]*M[nn[i,],l])+sum(W[nn[i,],i]*M[nn[i,],l]))\n",
    "                  +w[l]^beta*X[i,l]+lambda*abs(w[l])*X[i,l])/dividor\n",
    "          #    cat(c(i,l))\n",
    "          #   cat('\\n')\n",
    "        }else{\n",
    "          M[i,l]=0\n",
    "        }\n",
    "      }\n",
    "    }\n",
    "    \n",
    "    for( l in 1:p){\n",
    "      A[l]=sum((X[,l]-M[,l])^2)\n",
    "      #B[l]=gamma*diff_sq_calc(M[,l],W)\n",
    "      #C[l]=A[l]\n",
    "    }\n",
    "    alpha=solve_alpha(A,lambda)\n",
    "    for(l in 1:p){\n",
    "      w[l]=(S(alpha/A[l],lambda)/beta)^(1/(beta-1))\n",
    "    }\n",
    "    #cat(t)\n",
    "    #cat('\\t')\n",
    "    #cat(w)\n",
    "    #cat('\\n')    \n",
    "    #    points(M,pch=19,col=t+1)\n",
    "  }\n",
    "  \n",
    "  return(list(M,w))\n",
    "}\n",
    "label_orientation=function(label){\n",
    "  m=length(label)\n",
    "  u=unique(label)\n",
    "  u=sort(u)\n",
    "  n=length(u)\n",
    "  u1=numeric(m)\n",
    "  for(i in 1:n){\n",
    "    I=which(label==u[i])\n",
    "    u1[I]=i\n",
    "  }\n",
    "  return(u1)\n",
    "}"
   ]
  },
  {
   "cell_type": "markdown",
   "metadata": {},
   "source": [
    "load the data"
   ]
  },
  {
   "cell_type": "code",
   "execution_count": 4,
   "metadata": {},
   "outputs": [],
   "source": [
    "X=read.csv('movement_libras.csv',head=FALSE)\n",
    "X=data.matrix(X)\n",
    "toss=X[,91]\n",
    "X=X[,-91]\n",
    "I3=which(toss==3)\n",
    "I4=which(toss==4)\n",
    "I5=which(toss==5)\n",
    "I7=which(toss==7)\n",
    "I11=which(toss==11)\n",
    "I12=which(toss==12)\n",
    "I=c(I3,I4,I5,I7,I11,I12)\n",
    "X=X[I,]\n",
    "toss=toss[I]\n",
    "p=dim(X)[2]\n",
    "for(i in 1:p){\n",
    "  X[,i]=(X[,i]-mean(X[,i]))/sd(X[,i])\n",
    "}"
   ]
  },
  {
   "cell_type": "markdown",
   "metadata": {},
   "source": [
    "execute the bcc code"
   ]
  },
  {
   "cell_type": "code",
   "execution_count": 5,
   "metadata": {},
   "outputs": [],
   "source": [
    "l=bcc(X,X,lambda=0.002,gamma=10,tmax=100)"
   ]
  },
  {
   "cell_type": "code",
   "execution_count": 6,
   "metadata": {},
   "outputs": [],
   "source": [
    "h=hclust(dist(l[[1]]),method = 'average')"
   ]
  },
  {
   "cell_type": "code",
   "execution_count": 7,
   "metadata": {},
   "outputs": [
    {
     "name": "stdout",
     "output_type": "stream",
     "text": [
      " ..cutHeight not given, setting it to 11.6  ===>  99% of the (truncated) height range in dendro.\n",
      " ..done.\n"
     ]
    }
   ],
   "source": [
    "c=cutreeDynamic(h,distM = as.matrix(dist(l[[1]])))"
   ]
  },
  {
   "cell_type": "markdown",
   "metadata": {},
   "source": [
    "Compare with ground truth"
   ]
  },
  {
   "cell_type": "code",
   "execution_count": 8,
   "metadata": {},
   "outputs": [
    {
     "data": {
      "text/html": [
       "0.782284779108184"
      ],
      "text/latex": [
       "0.782284779108184"
      ],
      "text/markdown": [
       "0.782284779108184"
      ],
      "text/plain": [
       "[1] 0.7822848"
      ]
     },
     "metadata": {},
     "output_type": "display_data"
    }
   ],
   "source": [
    "compare(toss,c,'adjusted.rand')"
   ]
  },
  {
   "cell_type": "code",
   "execution_count": 9,
   "metadata": {},
   "outputs": [
    {
     "data": {
      "text/html": [
       "0.894883438728016"
      ],
      "text/latex": [
       "0.894883438728016"
      ],
      "text/markdown": [
       "0.894883438728016"
      ],
      "text/plain": [
       "[1] 0.8948834"
      ]
     },
     "metadata": {},
     "output_type": "display_data"
    }
   ],
   "source": [
    "compare(toss,c,'nmi')"
   ]
  },
  {
   "cell_type": "code",
   "execution_count": null,
   "metadata": {},
   "outputs": [],
   "source": []
  }
 ],
 "metadata": {
  "kernelspec": {
   "display_name": "R",
   "language": "R",
   "name": "ir"
  },
  "language_info": {
   "codemirror_mode": "r",
   "file_extension": ".r",
   "mimetype": "text/x-r-source",
   "name": "R",
   "pygments_lexer": "r",
   "version": "4.2.2"
  }
 },
 "nbformat": 4,
 "nbformat_minor": 4
}
